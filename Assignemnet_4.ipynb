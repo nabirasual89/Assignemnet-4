{
  "nbformat": 4,
  "nbformat_minor": 0,
  "metadata": {
    "colab": {
      "provenance": []
    },
    "kernelspec": {
      "name": "python3",
      "display_name": "Python 3"
    },
    "language_info": {
      "name": "python"
    }
  },
  "cells": [
    {
      "cell_type": "markdown",
      "source": [
        "1. What is Object-Oriented Programming (OOP)?\n",
        "\n",
        " - Object-oriented programming (OOP) is a programming paradigm that organizes code around \"objects,\" which are data fields with unique attributes and behavior, rather than functions and logic. It's a way of structuring programs using objects that interact with each other. Key concepts in OOP include classes, objects, inheritance, encapsulation, abstraction, and polymorphism."
      ],
      "metadata": {
        "id": "K78GsdByLTjh"
      }
    },
    {
      "cell_type": "markdown",
      "source": [
        "2. What is a class in OOP?\n",
        "\n",
        "  - In Object-Oriented Programming (OOP), a class is a blueprint or template for creating objects. It defines the structure and behavior of objects, including their attributes (data) and methods (functions). Essentially, a class is a user-defined data type that organizes information and enables code reuse."
      ],
      "metadata": {
        "id": "i5NCbc7gMArn"
      }
    },
    {
      "cell_type": "markdown",
      "source": [
        "3. What is an object in OOP?\n",
        "\n",
        " - In Object-Oriented Programming (OOP), an object is a fundamental unit that combines data (attributes) and the actions (methods) that operate on that data. It represents a specific instance of a class, encapsulating both its state (data) and its behavior (methods). Think of it as a real-world entity with unique characteristics and actions, like a \"car\" or a \"dog\n",
        "\n"
      ],
      "metadata": {
        "id": "B7DYOM62Mf_y"
      }
    },
    {
      "cell_type": "markdown",
      "source": [
        "4. What is the difference between abstraction and encapsulation?\n",
        " - Abstraction focuses on presenting only the essential features of an object, hiding complex implementation details. Encapsulation, on the other hand, bundles data and the methods that operate on that data, restricting direct access to protect data integrity. Abstraction deals with design-level decisions, while encapsulation addresses implementation"
      ],
      "metadata": {
        "id": "7fGp7BfVM6Sf"
      }
    },
    {
      "cell_type": "markdown",
      "source": [
        "5. What are the dunder methods in Python?\n",
        "  - Dunder methods, also known as magic methods, are special methods in Python that begin and end with double underscores (e.g., __init__, __str__, __len__). They are used to implement special behaviors in classes, such as operator overloading, customization of object creation, and implementation of container protocols."
      ],
      "metadata": {
        "id": "QY5XUzkiNdte"
      }
    },
    {
      "cell_type": "markdown",
      "source": [
        "6. Explain the concept of inheritance in OOP.\n",
        " - Inheritance in object-oriented programming (OOP) is a mechanism that allows a new class (the subclass or child class) to inherit properties and methods from an existing class (the superclass or parent class). This enables code reuse and creates a hierarchical relationship between classes, where subclasses are specialized versions of their superclass."
      ],
      "metadata": {
        "id": "HF0pFPtiOBKD"
      }
    },
    {
      "cell_type": "markdown",
      "source": [
        "7. What is polymorphism in OOP?\n",
        " - In Object-Oriented Programming (OOP), polymorphism, meaning \"many forms,\" allows objects of different classes to be treated as objects of a common superclass. This enables code reusability and flexibility by allowing multiple classes to implement the same method in different ways. Essentially, it's the ability of an object to take on many forms, based on its specific type."
      ],
      "metadata": {
        "id": "Qy1bHj-2OhOk"
      }
    },
    {
      "cell_type": "markdown",
      "source": [
        "8. How is encapsulation achieved in Python?\n",
        "\n",
        " - fEncapsulation in Python is achieved by restricting access to attributes and methods, preventing direct modification from outside the class. This is primarily accomplished using naming conventions, as Python doesn't enforce access modifiers like private or protected in the same way as some other languages.\n",
        "\n",
        "Private Attributes:\n",
        "\n",
        "Naming an attribute with a double underscore prefix (e.g., __attribute) signals that it's intended for internal use within the class. While not strictly enforced, it triggers name mangling, making it harder (but not impossible) to access from outside.\n",
        "\n",
        "Protected Attributes:\n",
        "\n",
        "A single underscore prefix (e.g., _attribute) suggests that the attribute should be treated as protected, meaning it's intended for use within the class and its subclasses, but not externally. This is more of a convention.\n",
        "\n",
        "Getter and Setter Methods:\n",
        "\n",
        "These methods provide controlled access to attributes. Getters retrieve the value of an attribute, and setters modify it, allowing for validation or other logic to be applied.\n",
        "\n",
        "Public Attributes:\n",
        "\n",
        "Attributes without any prefix are considered public and can be accessed freely from anywhere."
      ],
      "metadata": {
        "id": "a2_-843jO3Iq"
      }
    },
    {
      "cell_type": "code",
      "execution_count": null,
      "metadata": {
        "colab": {
          "base_uri": "https://localhost:8080/"
        },
        "id": "91qZ53fFLEsH",
        "outputId": "4dd64b5e-7d06-4f9d-eae0-c6e33739a60a"
      },
      "outputs": [
        {
          "output_type": "stream",
          "name": "stdout",
          "text": [
            "1000\n",
            "1500\n",
            "1234567890\n"
          ]
        }
      ],
      "source": [
        "class BankAccount:\n",
        "    def __init__(self, account_number, balance):\n",
        "        self.__account_number = account_number  # private attribute\n",
        "        self._balance = balance  # protected attribute\n",
        "\n",
        "    def get_balance(self): # getter method\n",
        "        return self._balance\n",
        "\n",
        "    def deposit(self, amount): # setter method\n",
        "        if amount > 0:\n",
        "            self._balance += amount\n",
        "        else:\n",
        "            print(\"Invalid deposit amount\")\n",
        "\n",
        "    def get_account_number(self):\n",
        "        return self.__account_number\n",
        "\n",
        "account = BankAccount(\"1234567890\", 1000)\n",
        "print(account.get_balance()) # Accessing protected attribute using getter\n",
        "account.deposit(500)\n",
        "print(account.get_balance())\n",
        "#print(account.__account_number) # This will raise an AttributeError due to name mangling\n",
        "print(account.get_account_number())"
      ]
    },
    {
      "cell_type": "markdown",
      "source": [
        "9. What is a constructor in Python?\n",
        " - A constructor in Python is a special method within a class that initializes the attributes of an object when the object is created. It is automatically called when an object of the class is instantiated. The constructor method is named __init__. If a constructor is not explicitly defined in a class, Python provides a default constructor. However, when there is a need to initialize instance variables with specific values or perform setup actions, a custom constructor is defined.\n",
        "Python\n",
        "\n"
      ],
      "metadata": {
        "id": "3gn4wQP7Pmoq"
      }
    },
    {
      "cell_type": "code",
      "source": [
        "class Dog:\n",
        "    def __init__(self, name, breed):\n",
        "        self.name = name\n",
        "        self.breed = breed\n",
        "\n",
        "    def bark(self):\n",
        "        print(\"Woof!\")\n",
        "\n",
        "# Creating an object of the Dog class, which calls the constructor\n",
        "my_dog = Dog(\"Buddy\", \"Golden Retriever\")\n",
        "\n",
        "print(my_dog.name)\n",
        "print(my_dog.breed)\n",
        "my_dog.bark()"
      ],
      "metadata": {
        "colab": {
          "base_uri": "https://localhost:8080/"
        },
        "id": "2iH1g-2JQQXt",
        "outputId": "adeb3b0f-cb2f-4b29-e879-438eb6c1d42b"
      },
      "execution_count": null,
      "outputs": [
        {
          "output_type": "stream",
          "name": "stdout",
          "text": [
            "Buddy\n",
            "Golden Retriever\n",
            "Woof!\n"
          ]
        }
      ]
    },
    {
      "cell_type": "markdown",
      "source": [
        "In this example, __init__ is the constructor. When my_dog = Dog(\"Buddy\", \"Golden Retriever\") is executed, the __init__ method is called with \"Buddy\" and \"Golden Retriever\" as arguments, and the name and breed attributes of the my_dog object are initialized accordingly."
      ],
      "metadata": {
        "id": "8pfwTVljQWtW"
      }
    },
    {
      "cell_type": "markdown",
      "source": [
        "10. What are class and static methods in Python?\n",
        "\n",
        " - In Python, class and static methods are special types of methods bound to a class rather than an instance of the class. They provide different ways to interact with the class and its attributes.\n",
        "\n",
        "Class Methods\n",
        "\n",
        "\n",
        "A class method is defined using the @classmethod decorator. It takes the class itself as the first argument, conventionally named cls. Class methods can access and modify class-level attributes. They are often used as factory methods to create instances of the class or to perform operations that involve the class as a whole."
      ],
      "metadata": {
        "id": "dTaN7gHTQYFb"
      }
    },
    {
      "cell_type": "code",
      "source": [
        "class MyClass:\n",
        "    count = 0\n",
        "\n",
        "    def __init__(self):\n",
        "        MyClass.count += 1\n",
        "\n",
        "    @classmethod\n",
        "    def get_count(cls):\n",
        "        return cls.count\n",
        "\n",
        "print(MyClass.get_count()) # Output: 0\n",
        "my_instance = MyClass()\n",
        "print(MyClass.get_count()) # Output: 1"
      ],
      "metadata": {
        "colab": {
          "base_uri": "https://localhost:8080/"
        },
        "id": "yflpTKgzPf-r",
        "outputId": "1837f668-a80b-4714-cb5d-78dbb4a5a4e9"
      },
      "execution_count": null,
      "outputs": [
        {
          "output_type": "stream",
          "name": "stdout",
          "text": [
            "0\n",
            "1\n"
          ]
        }
      ]
    },
    {
      "cell_type": "markdown",
      "source": [
        "Static Methods\n",
        "\n",
        "A static method is defined using the @staticmethod decorator. It does not take any implicit first argument (neither self nor cls). Static methods are essentially regular functions that are scoped within the class. They cannot access or modify class or instance attributes directly. Static methods are often used for utility functions that are related to the class but do not depend on its state."
      ],
      "metadata": {
        "id": "nWgQw5kJQ6X4"
      }
    },
    {
      "cell_type": "code",
      "source": [
        "class MathUtils:\n",
        "    @staticmethod\n",
        "    def add(x, y):\n",
        "        return x + y\n",
        "\n",
        "print(MathUtils.add(5, 3)) # Output: 8"
      ],
      "metadata": {
        "colab": {
          "base_uri": "https://localhost:8080/"
        },
        "id": "7NwM_54LQ2Mv",
        "outputId": "7f9416ec-1e59-4f90-efc0-cf910b6984dd"
      },
      "execution_count": null,
      "outputs": [
        {
          "output_type": "stream",
          "name": "stdout",
          "text": [
            "8\n"
          ]
        }
      ]
    },
    {
      "cell_type": "markdown",
      "source": [
        "11. What is method overloading in Python?\n",
        " - Method overloading in Python refers to the ability to define multiple methods in a class with the same name but different parameters. This allows a single method name to perform different actions based on the number or type of arguments passed to it. Python doesn't support traditional method overloading like some other languages (e.g., Java, C++). However, it achieves similar functionality through default arguments and variable-length argument lists."
      ],
      "metadata": {
        "id": "OQpvyhJub2Na"
      }
    },
    {
      "cell_type": "code",
      "source": [
        "class Calculator:\n",
        "    def add(self, a, b=None, c=None):\n",
        "        if b is not None and c is not None:\n",
        "            return a + b + c\n",
        "        elif b is not None:\n",
        "            return a + b\n",
        "        else:\n",
        "            return a\n",
        "\n",
        "calc = Calculator()\n",
        "print(calc.add(5))\n",
        "print(calc.add(5, 10))\n",
        "print(calc.add(5, 10, 15))"
      ],
      "metadata": {
        "colab": {
          "base_uri": "https://localhost:8080/"
        },
        "id": "hr6bwEcXc-ew",
        "outputId": "9675021a-f76f-4a75-f960-0a520f09572a"
      },
      "execution_count": null,
      "outputs": [
        {
          "output_type": "stream",
          "name": "stdout",
          "text": [
            "5\n",
            "15\n",
            "30\n"
          ]
        }
      ]
    },
    {
      "cell_type": "markdown",
      "source": [
        "In this example, the add method is defined with optional parameters b and c. The method's behavior changes based on which arguments are provided during the call."
      ],
      "metadata": {
        "id": "Kzu_mSQXb16b"
      }
    },
    {
      "cell_type": "markdown",
      "source": [
        "12. What is method overriding in OOP?\n",
        " - In Object-Oriented Programming (OOP), method overriding is when a subclass provides a specific implementation for a method that is already defined in its superclass or parent class. This allows the subclass to modify or extend the method's behavior while maintaining the same method signature (name, arguments) as the superclass.\n",
        "\n",
        " In Object-Oriented Programming (OOP), method overriding is when a subclass provides a specific implementation for a method that is already defined in its superclass or parent class. This allows the subclass to modify or extend the method's behavior while maintaining the same method signature (name, arguments) as the superclass.\n",
        "\n",
        "Key aspects of method overriding:\n",
        "\n",
        "Inheritance:\n",
        "\n",
        "Method overriding is always tied to inheritance, where a subclass inherits properties and methods from its superclass.\n",
        "\n",
        "Same Signature:\n",
        "\n",
        "The overriding method in the subclass must have the same name, the same number and types of parameters (arguments), and the same return type as the method in the superclass.\n",
        "\n",
        "Polymorphism:\n",
        "\n",
        "Method overriding is a form of polymorphism, where different classes can respond to the same method call in their own specific ways.\n",
        "\n",
        "Runtime Binding:\n",
        "\n",
        "The actual method depends on the object's type at runtime.\n",
        "\n",
        "Example:\n",
        "\n",
        "Consider an example where there's a class Animal with a makeSound() method. A subclass, Dog, could override the makeSound() method to provide a specific barking sound, while a subclass, Cat, could override it to give a meowing sound"
      ],
      "metadata": {
        "id": "sCpW4wVUdUIv"
      }
    },
    {
      "cell_type": "code",
      "source": [
        "class Animal:\n",
        "    def makeSound(self):\n",
        "        print(\"Generic animal sound\")\n",
        "\n",
        "class Dog(Animal):\n",
        "    def makeSound(self):\n",
        "        print(\"Woof!\")\n",
        "\n",
        "class Cat(Animal):\n",
        "    def makeSound(self):\n",
        "        print(\"Meow!\")"
      ],
      "metadata": {
        "id": "t4eTY9wfeRl4"
      },
      "execution_count": null,
      "outputs": []
    },
    {
      "cell_type": "markdown",
      "source": [
        "When you call makeSound() on a Dog object, it will execute the makeSound() method defined in the Dog class, not the one in the Animal class."
      ],
      "metadata": {
        "id": "BdFzQdtIebXU"
      }
    },
    {
      "cell_type": "markdown",
      "source": [
        "13. What is a property decorator in Python?\n",
        " - In Python, a property decorator is a built-in feature that allows methods to be accessed like attributes. It provides a way to encapsulate the logic for getting, setting, and deleting an attribute within a class, without requiring the user to call explicit getter or setter methods. The @property decorator is syntactic sugar for creating property objects."
      ],
      "metadata": {
        "id": "VDo3MNjXeczs"
      }
    },
    {
      "cell_type": "code",
      "source": [
        "class MyClass:\n",
        "    def __init__(self, value):\n",
        "        self._value = value\n",
        "\n",
        "    @property\n",
        "    def value(self):\n",
        "        return self._value\n",
        "\n",
        "    @value.setter\n",
        "    def value(self, new_value):\n",
        "        if new_value < 0:\n",
        "            raise ValueError(\"Value cannot be negative\")\n",
        "        self._value = new_value\n",
        "\n",
        "    @value.deleter\n",
        "    def value(self):\n",
        "        del self._value\n",
        "\n",
        "# Example usage\n",
        "obj = MyClass(10)\n",
        "print(obj.value)  # Accesses the value using the getter\n",
        "obj.value = 20  # Sets the value using the setter\n",
        "print(obj.value)\n",
        "del obj.value  # Deletes the value using the deleter"
      ],
      "metadata": {
        "colab": {
          "base_uri": "https://localhost:8080/"
        },
        "id": "KO5_oEeAebGI",
        "outputId": "508d2616-628e-4a48-e705-82415e58a71b"
      },
      "execution_count": null,
      "outputs": [
        {
          "output_type": "stream",
          "name": "stdout",
          "text": [
            "10\n",
            "20\n"
          ]
        }
      ]
    },
    {
      "cell_type": "markdown",
      "source": [
        "14. Why is polymorphism important in OPP?\n",
        " - Polymorphism is vital in Object-Oriented Programming (OOP) because it enables a single interface to work with multiple types of objects, promoting code reusability, flexibility, and maintainability. It allows different objects to share the same method name but exhibit their own unique behaviors when called. This is achieved through mechanisms like method overloading and overriding, enabling a more adaptable and organized codebase."
      ],
      "metadata": {
        "id": "HhJNEU4Pe3SC"
      }
    },
    {
      "cell_type": "markdown",
      "source": [
        "15. What is an abstract class in Python?\n",
        " - An abstract class in Python is a class that cannot be instantiated directly and is intended to be subclassed. It serves as a blueprint for other classes, defining methods that subclasses must implement. Abstract classes are created using the abc module (Abstract Base Classes) and the @abstractmethod decorator.\n",
        "\n",
        "Abstract classes can contain both regular methods with implementations and abstract methods, which are declared but have no implementation in the abstract class. Subclasses inheriting from an abstract class are required to provide concrete implementations for all abstract methods. This ensures a consistent interface across different subclasses.\n",
        "\n",
        "Here's an example:"
      ],
      "metadata": {
        "id": "XXgYd7tjfSi2"
      }
    },
    {
      "cell_type": "code",
      "source": [
        "from abc import ABC, abstractmethod\n",
        "\n",
        "class Shape(ABC):\n",
        "    @abstractmethod\n",
        "    def area(self):\n",
        "        pass\n",
        "\n",
        "    @abstractmethod\n",
        "    def perimeter(self):\n",
        "        pass\n",
        "\n",
        "class Circle(Shape):\n",
        "    def __init__(self, radius):\n",
        "        self.radius = radius\n",
        "\n",
        "    def area(self):\n",
        "        return 3.14 * self.radius * self.radius\n",
        "\n",
        "    def perimeter(self):\n",
        "        return 2 * 3.14 * self.radius\n",
        "\n",
        "class Square(Shape):\n",
        "    def __init__(self, side):\n",
        "        self.side = side\n",
        "\n",
        "    def area(self):\n",
        "        return self.side * self.side\n",
        "\n",
        "    def perimeter(self):\n",
        "        return 4 * self.side"
      ],
      "metadata": {
        "id": "atidm4IgRIo6"
      },
      "execution_count": null,
      "outputs": []
    },
    {
      "cell_type": "markdown",
      "source": [
        "In this example, Shape is an abstract class with abstract methods area and perimeter. Circle and Square are subclasses that implement these methods. Attempting to instantiate Shape directly would result in a TypeError."
      ],
      "metadata": {
        "id": "yymsEnv6fwNk"
      }
    },
    {
      "cell_type": "markdown",
      "source": [
        "16. What are the advantages of OOP?\n",
        " - Object-Oriented Programming (OOP) offers several advantages, including improved code organization through encapsulation, reusability via inheritance, and flexibility through polymorphism. These features lead to modular, maintainable, and scalable software solutions.\n"
      ],
      "metadata": {
        "id": "voAyCR7gfxkv"
      }
    },
    {
      "cell_type": "markdown",
      "source": [
        "17. What is the difference between a class variable and an instance variable?\n",
        " - The key difference between a class variable (also known as a static variable) and an instance variable is their scope and how they are shared. Class variables are shared across all instances of a class, meaning they have only one copy regardless of how many objects are created from that class. Instance variables, on the other hand, are unique to each instance of the class, with each object having its own separate copy.\n",
        "\n",
        "Elaboration:\n",
        "\n",
        "Class Variables (Static Variables):\n",
        "\n",
        "Defined at the class level (outside any methods) and typically using the static keyword (in languages like Java).\n",
        "\n",
        "Share a single copy across all instances of the class.\n",
        "\n",
        "Can be accessed directly using the class name (e.g., MyClass.myVariable).\n",
        "\n",
        "Used for shared data, constants, or when you need a single copy for all instances.\n",
        "\n",
        "Instance Variables:\n",
        "\n",
        "Defined at the instance level within a class (typically within the constructor or methods).\n",
        "\n",
        "Each instance (object) of the class has its own separate copy of the instance variable.\n",
        "\n",
        "Accessed using an object reference (e.g., myObject.myVariable).\n",
        "\n",
        "Used to store unique data specific to each object, like properties or characteristics of that particular instance.\n"
      ],
      "metadata": {
        "id": "ZR6f3aJ3gR5F"
      }
    },
    {
      "cell_type": "markdown",
      "source": [
        "18. What is multiple inheritance in Python?\n",
        " - Multiple inheritance in Python is a feature where a class can inherit attributes and methods from multiple parent classes. This allows a class to combine functionalities from different sources, promoting code reuse and flexibility. When a class inherits from multiple parents, it gains access to all their non-private members."
      ],
      "metadata": {
        "id": "qxQUPyFkhIg5"
      }
    },
    {
      "cell_type": "code",
      "source": [
        "class Base1:\n",
        "    def func1(self):\n",
        "        print(\"Function of Base1\")\n",
        "\n",
        "class Base2:\n",
        "    def func2(self):\n",
        "        print(\"Function of Base2\")\n",
        "\n",
        "class Derived(Base1, Base2):\n",
        "    def func3(self):\n",
        "        print(\"Function of Derived\")\n",
        "\n",
        "d = Derived()\n",
        "d.func1() # Output: Function of Base1\n",
        "d.func2() # Output: Function of Base2\n",
        "d.func3() # Output: Function of Derived"
      ],
      "metadata": {
        "colab": {
          "base_uri": "https://localhost:8080/"
        },
        "id": "1MUvPn-1frXe",
        "outputId": "8986dc9a-7660-49a8-fa24-761e19e84232"
      },
      "execution_count": null,
      "outputs": [
        {
          "output_type": "stream",
          "name": "stdout",
          "text": [
            "Function of Base1\n",
            "Function of Base2\n",
            "Function of Derived\n"
          ]
        }
      ]
    },
    {
      "cell_type": "markdown",
      "source": [
        "In cases where multiple parent classes have methods with the same name, Python uses the Method Resolution Order (MRO) to determine which method to call. The MRO is a predictable order in which base classes are searched for a method. It ensures that methods are inherited in a consistent and logical way, avoiding ambiguity."
      ],
      "metadata": {
        "id": "a5K4fKCYimDM"
      }
    },
    {
      "cell_type": "markdown",
      "source": [
        "19. Explain the purpose of \"_ _str_ _'and'_ _repr_ _\" methods in Python?\n",
        " - In Python, the __str__ and __repr__ methods are special methods used to define how objects are represented as strings. They are automatically called in certain situations, such as when using the str() or repr() functions, or when an object is printed.\n",
        "\n",
        "__str__(self):\n",
        "\n",
        "This method returns a human-readable string representation of the object. It is intended for end-users and should provide a clear and concise description of the object's state. When str() or print() is called on an object, Python will first look for the __str__ method. If it exists, it will be used to generate the string representation.\n",
        "\n",
        "__repr__(self):\n",
        "\n",
        "This method returns an \"official\" string representation of the object. It is intended for developers and should provide enough information to recreate the object. When repr() is called on an object, Python will use the __repr__ method. If __str__ is not defined, Python will fall back to using __repr__ when str() or print() is called.\n",
        "\n",
        "Ideally, the __repr__ method should return a string that, when passed to the eval() function, would recreate the object. However, this is not always possible or practical."
      ],
      "metadata": {
        "id": "kqkWEAxoinWM"
      }
    },
    {
      "cell_type": "code",
      "source": [
        "class Point:\n",
        "    def __init__(self, x, y):\n",
        "        self.x = x\n",
        "        self.y = y\n",
        "\n",
        "    def __str__(self):\n",
        "        return f\"({self.x}, {self.y})\"\n",
        "\n",
        "    def __repr__(self):\n",
        "        return f\"Point({self.x}, {self.y})\"\n",
        "\n",
        "p = Point(2, 3)\n",
        "\n",
        "print(str(p))  # Output: (2, 3)\n",
        "print(repr(p)) # Output: Point(2, 3)"
      ],
      "metadata": {
        "colab": {
          "base_uri": "https://localhost:8080/"
        },
        "id": "zhC1LERVifxb",
        "outputId": "37bbfb37-a1e3-440f-8d64-111f8196ebd7"
      },
      "execution_count": null,
      "outputs": [
        {
          "output_type": "stream",
          "name": "stdout",
          "text": [
            "(2, 3)\n",
            "Point(2, 3)\n"
          ]
        }
      ]
    },
    {
      "cell_type": "markdown",
      "source": [
        "In this example, __str__ provides a simple, user-friendly representation of the point, while __repr__ provides a more detailed representation that could be used to recreate the Point object."
      ],
      "metadata": {
        "id": "ROrVGitXjqfv"
      }
    },
    {
      "cell_type": "markdown",
      "source": [
        "20. What is the significance of the 'super()' function in Python?\n",
        " - The super() function in Python is used to call methods from a parent class in a subclass. It provides a way to access and utilize the functionality of the superclass, promoting code reuse and simplifying inheritance management, especially in complex class hierarchies with multiple inheritance.\n",
        "\n",
        "The primary significance of super() lies in its ability to resolve the order in which methods are called in an inheritance hierarchy, known as the Method Resolution Order (MRO). When a subclass inherits from multiple parent classes, the MRO defines the sequence in which the parent classes' methods are searched for when a method is called on an instance of the subclass. super() ensures that the methods are called in the correct order, as defined by the MRO, preventing issues like calling the same method multiple times or skipping necessary initializations.\n",
        "\n",
        "super() is particularly useful in the following scenarios:\n",
        "\n",
        "Calling the parent class's constructor:\n",
        "\n",
        "When a subclass needs to initialize attributes inherited from the parent class, super().__init__() can be used to call the parent's constructor, ensuring proper initialization of the inherited attributes.\n",
        "\n",
        "Overriding methods:\n",
        "\n",
        "When a subclass overrides a method from the parent class, super().method_name() can be used to call the parent's implementation of the method, allowing the subclass to extend or modify the parent's behavior while still utilizing its base functionality.\n",
        "\n",
        "Multiple inheritance:\n",
        "\n",
        "In situations where a class inherits from multiple parent classes, super() is crucial for managing the method resolution order and ensuring that methods from all parent classes are called correctly.\n",
        "\n",
        "Avoiding hardcoding:\n",
        "\n",
        "super() avoids the need to explicitly refer to the parent class by name, making the code more flexible and maintainable. If the inheritance hierarchy changes, the code using super() will automatically adapt to the new hierarchy."
      ],
      "metadata": {
        "id": "JdAuIO4sjr5J"
      }
    },
    {
      "cell_type": "code",
      "source": [
        "class Parent:\n",
        "    def __init__(self, name):\n",
        "        self.name = name\n",
        "\n",
        "    def display(self):\n",
        "        print(\"Parent name:\", self.name)\n",
        "\n",
        "class Child(Parent):\n",
        "    def __init__(self, name, age):\n",
        "        super().__init__(name)\n",
        "        self.age = age\n",
        "\n",
        "    def display(self):\n",
        "        super().display()\n",
        "        print(\"Child age:\", self.age)\n",
        "\n",
        "c = Child(\"Alice\", 10)\n",
        "c.display()\n",
        "# Output:\n",
        "# Parent name: Alice\n",
        "# Child age: 10"
      ],
      "metadata": {
        "colab": {
          "base_uri": "https://localhost:8080/"
        },
        "id": "xwkWqCXnjc15",
        "outputId": "9e150311-1733-4f76-d4d5-3327bb4291ae"
      },
      "execution_count": null,
      "outputs": [
        {
          "output_type": "stream",
          "name": "stdout",
          "text": [
            "Parent name: Alice\n",
            "Child age: 10\n"
          ]
        }
      ]
    },
    {
      "cell_type": "markdown",
      "source": [
        "In this example, super().__init__(name) in the Child class calls the Parent class's constructor to initialize the name attribute. super().display() then calls the Parent class's display() method before adding its own output."
      ],
      "metadata": {
        "id": "1Pm9lyQrkxDC"
      }
    },
    {
      "cell_type": "markdown",
      "source": [
        "21. What is the significance of the _ _del_ _ method in Python?\n",
        " - The __del__ method, also known as a destructor, in Python is called when an object is garbage collected, after all references to the object have been deleted. It provides an opportunity to clean up resources, such as closing files or releasing external connections, that the object may have been using. However, relying heavily on __del__ is generally discouraged due to the uncertainty of when It will be called.\n",
        "\n",
        "The del statement in Python decreases the reference count of an object. When an object's reference count drops to zero, it becomes eligible for garbage collection. The __del__ method, if defined, is then invoked by the garbage collector before the object is deallocated."
      ],
      "metadata": {
        "id": "xA96D3yIk2bh"
      }
    },
    {
      "cell_type": "code",
      "source": [
        "class MyClass:\n",
        "    def __init__(self, name):\n",
        "        self.name = name\n",
        "        print(f\"Object {self.name} created.\")\n",
        "\n",
        "    def __del__(self):\n",
        "        print(f\"Object {self.name} destroyed.\")\n",
        "\n",
        "# Creating instances of the class\n",
        "obj1 = MyClass(\"Object 1\")\n",
        "obj2 = MyClass(\"Object 2\")\n",
        "\n",
        "# Deleting a reference to an object\n",
        "del obj1\n",
        "\n",
        "# The __del__ method for obj1 will be called here or later, depending on garbage collection\n",
        "# When the program ends or all references are deleted, the __del__ method for obj2 will be called"
      ],
      "metadata": {
        "colab": {
          "base_uri": "https://localhost:8080/"
        },
        "id": "nqLaBR0Ukns3",
        "outputId": "d6a09eb8-cc6e-4bee-d894-8caa915e0ef7"
      },
      "execution_count": null,
      "outputs": [
        {
          "output_type": "stream",
          "name": "stdout",
          "text": [
            "Object Object 1 created.\n",
            "Object Object 2 created.\n",
            "Object Object 1 destroyed.\n"
          ]
        }
      ]
    },
    {
      "cell_type": "markdown",
      "source": [
        "22. What is the difference between @staticmethod and @classsmethod in Python?\n",
        " - The key differences between @staticmethod and @classmethod in Python lie in their interaction with the class and its instances:\n",
        "\n",
        "@staticmethod:\n",
        "\n",
        "It is a function defined inside a class but does not receive the class or instance as an implicit first argument.\n",
        "\n",
        "It cannot access or modify class-specific or instance-specific attributes.\n",
        "\n",
        "It behaves like a regular function, but is namespaced within the class.\n",
        "\n",
        "It is used for utility functions logically related to the class but not dependent on its state.\n",
        "\n",
        "@classmethod:\n",
        "\n",
        "It receives the class itself as an implicit first argument, conventionally named cls.\n",
        "\n",
        "It can access and modify class-level attributes.\n",
        "\n",
        "It cannot directly access instance-specific attributes.\n",
        "\n",
        "It is used for factory methods that create instances of the class, or for operations that involve the class as a whole."
      ],
      "metadata": {
        "id": "9Eduyn9Cl53P"
      }
    },
    {
      "cell_type": "code",
      "source": [
        "class MyClass:\n",
        "    class_variable = \"class_value\"\n",
        "\n",
        "    def __init__(self, instance_variable):\n",
        "        self.instance_variable = instance_variable\n",
        "\n",
        "    @staticmethod\n",
        "    def static_method(arg1, arg2):\n",
        "        return arg1 + arg2\n",
        "\n",
        "    @classmethod\n",
        "    def class_method(cls, arg):\n",
        "        return cls.class_variable + arg\n",
        "\n",
        "# Calling the methods\n",
        "print(MyClass.static_method(1, 2)) # Output: 3\n",
        "print(MyClass.class_method(\"_suffix\")) # Output: class_value_suffix\n",
        "\n",
        "instance = MyClass(\"instance_value\")\n",
        "print(instance.static_method(3, 4)) # Output: 7\n",
        "print(instance.class_method(\"_new_suffix\")) # Output: class_value_new_suffix"
      ],
      "metadata": {
        "colab": {
          "base_uri": "https://localhost:8080/"
        },
        "id": "P7PMC8Czlm1b",
        "outputId": "8bcd3801-4405-4a30-e508-500bb18e7997"
      },
      "execution_count": null,
      "outputs": [
        {
          "output_type": "stream",
          "name": "stdout",
          "text": [
            "3\n",
            "class_value_suffix\n",
            "7\n",
            "class_value_new_suffix\n"
          ]
        }
      ]
    },
    {
      "cell_type": "markdown",
      "source": [
        "23. How does polymorphism work in Python with inheritance?\n",
        " - Polymorphism in Python, in the context of inheritance, enables objects of different classes to respond to the same method call in a way that is specific to their class. This is primarily achieved through method overriding, where a subclass provides its own implementation of a method that is already defined in its parent class.\n",
        "\n",
        "When a method is called on an object, Python checks the class of the object to find the appropriate method to execute. If the method is defined in the class, it is executed. If not, Python looks for the method in the parent class, and so on, up the inheritance hierarchy. If a subclass overrides a method, the subclass's version of the method is executed instead of the parent class's version. This allows objects of different classes to respond differently to the same method call, which is the essence of polymorphism."
      ],
      "metadata": {
        "id": "h-fsrJZWmm2E"
      }
    },
    {
      "cell_type": "code",
      "source": [
        "class Animal:\n",
        "    def speak(self):\n",
        "        return \"Generic animal sound\"\n",
        "\n",
        "class Dog(Animal):\n",
        "    def speak(self):\n",
        "        return \"Woof!\"\n",
        "\n",
        "class Cat(Animal):\n",
        "    def speak(self):\n",
        "        return \"Meow!\"\n",
        "\n",
        "def animal_sound(animal):\n",
        "    return animal.speak()\n",
        "\n",
        "dog = Dog()\n",
        "cat = Cat()\n",
        "\n",
        "print(animal_sound(dog)) # Output: Woof!\n",
        "print(animal_sound(cat)) # Output: Meow!"
      ],
      "metadata": {
        "colab": {
          "base_uri": "https://localhost:8080/"
        },
        "id": "F__mV4MSmlhm",
        "outputId": "cabe24cb-d59c-48ae-f28f-96ef910cfa34"
      },
      "execution_count": null,
      "outputs": [
        {
          "output_type": "stream",
          "name": "stdout",
          "text": [
            "Woof!\n",
            "Meow!\n"
          ]
        }
      ]
    },
    {
      "cell_type": "markdown",
      "source": [
        "In this example, both Dog and Cat inherit from Animal and override the speak method. The animal_sound function can accept either a Dog or a Cat object, and it will call the appropriate speak method based on the object's actual class. This demonstrates polymorphism, as the same function call (animal_sound) produces different results depending on the type of object passed to it."
      ],
      "metadata": {
        "id": "Yppy8kc7nDnt"
      }
    },
    {
      "cell_type": "markdown",
      "source": [
        "24. What is method chaining in Python OOP?\n",
        " - Method chaining in Python is a programming technique used in object-oriented programming where multiple methods are called sequentially on the same object in a single statement. It enhances code readability and conciseness by avoiding the need for intermediate variables. To implement method chaining, each method in the class must return the object itself (typically self) after performing its operation. This allows subsequent methods to be called directly on the returned object."
      ],
      "metadata": {
        "id": "DWnf-nmQnEuj"
      }
    },
    {
      "cell_type": "code",
      "source": [
        "class Calculator:\n",
        "    def __init__(self, value=0):\n",
        "        self.value = value\n",
        "\n",
        "    def add(self, num):\n",
        "        self.value += num\n",
        "        return self\n",
        "\n",
        "    def subtract(self, num):\n",
        "        self.value -= num\n",
        "        return self\n",
        "\n",
        "    def multiply(self, num):\n",
        "        self.value *= num\n",
        "        return self\n",
        "\n",
        "    def get_value(self):\n",
        "        return self.value\n",
        "\n",
        "# Example of method chaining\n",
        "calc = Calculator(10)\n",
        "result = calc.add(5).subtract(3).multiply(2).get_value()\n",
        "print(result)  # Output: 24"
      ],
      "metadata": {
        "colab": {
          "base_uri": "https://localhost:8080/"
        },
        "id": "yyADq8W_nAuQ",
        "outputId": "4b39f91e-f9d5-498f-e1b7-8d1eafd87de2"
      },
      "execution_count": null,
      "outputs": [
        {
          "output_type": "stream",
          "name": "stdout",
          "text": [
            "24\n"
          ]
        }
      ]
    },
    {
      "cell_type": "markdown",
      "source": [
        "25. What is the porpose of the _ _call _ _ method in Python?\n",
        " - The __call__ method in Python enables instances of a class to be called like regular functions. When a class implements this method, its instances become callable objects. The __call__ method can take arguments, similar to a regular function, and its execution is triggered when the instance is \"called\" using parentheses. This mechanism facilitates the creation of objects that encapsulate specific behaviors and can be invoked in a function-like manner."
      ],
      "metadata": {
        "id": "4Sshncxsnb58"
      }
    },
    {
      "cell_type": "code",
      "source": [
        "class Greeter:\n",
        "    def __init__(self, greeting):\n",
        "        self.greeting = greeting\n",
        "\n",
        "    def __call__(self, name):\n",
        "        return f\"{self.greeting}, {name}!\"\n",
        "\n",
        "# Creating an instance of Greeter\n",
        "greet = Greeter(\"Hello\")\n",
        "\n",
        "# Calling the instance like a function\n",
        "message = greet(\"World\")\n",
        "print(message)  # Output: Hello, World!"
      ],
      "metadata": {
        "colab": {
          "base_uri": "https://localhost:8080/"
        },
        "id": "z6AppIOJnZ0e",
        "outputId": "82d1e0e7-d26c-4680-c618-4a853ede6f4a"
      },
      "execution_count": null,
      "outputs": [
        {
          "output_type": "stream",
          "name": "stdout",
          "text": [
            "Hello, World!\n"
          ]
        }
      ]
    },
    {
      "cell_type": "markdown",
      "source": [
        "In this example, greet is an instance of the Greeter class, and it's called like a function using greet(\"World\"). This triggers the execution of the __call__ method, returning the greeting message."
      ],
      "metadata": {
        "id": "55NlF5ben0HO"
      }
    },
    {
      "cell_type": "markdown",
      "source": [
        "# **Practical Queations**"
      ],
      "metadata": {
        "id": "ujX0i2qM6Jnz"
      }
    },
    {
      "cell_type": "markdown",
      "source": [
        "1. Create a parent class Animal with a method speak() that prints a generic message. Create a child class Dog that overrides the method to print \"Bark!\"."
      ],
      "metadata": {
        "id": "-2RcgXJN6gGL"
      }
    },
    {
      "cell_type": "code",
      "source": [
        "class Animal:\n",
        "    def speak(self):\n",
        "        print(\"This animal makes a sound.\")\n",
        "\n",
        "class Dog(Animal):\n",
        "    def speak(self):\n",
        "        print(\"Bark\")\n",
        "\n",
        "# Example usage\n",
        "generic_animal = Animal()\n",
        "generic_animal.speak()  # Output: This animal makes a sound.\n",
        "\n",
        "dog = Dog()\n",
        "dog.speak()  # Output: Bark\n"
      ],
      "metadata": {
        "colab": {
          "base_uri": "https://localhost:8080/"
        },
        "id": "tD2Ax6DfnxFj",
        "outputId": "af6d1afd-ca64-43e3-88f5-3addfcf227f8"
      },
      "execution_count": null,
      "outputs": [
        {
          "output_type": "stream",
          "name": "stdout",
          "text": [
            "This animal makes a sound.\n",
            "Bark\n"
          ]
        }
      ]
    },
    {
      "cell_type": "markdown",
      "source": [
        "In this code:\n",
        "\n",
        "The Animal class has a method, speak, that prints a generic message.\n",
        "\n",
        "The Dog class inherits from Animal and overrides the speak method to print \"Bark\"."
      ],
      "metadata": {
        "id": "7i8QC_XC7pas"
      }
    },
    {
      "cell_type": "markdown",
      "source": [
        "2. Write a program to create an abstract class Shop with a method area(). Derive classes Circle and Rectangle from it and implement the area() method in both."
      ],
      "metadata": {
        "id": "R5ao-g-K7qaM"
      }
    },
    {
      "cell_type": "code",
      "source": [
        "from abc import ABC, abstractmethod\n",
        "import math\n",
        "\n",
        "class Shop(ABC):\n",
        "    @abstractmethod\n",
        "    def area(self):\n",
        "        pass\n",
        "\n",
        "class Circle(Shop):\n",
        "    def __init__(self, radius):\n",
        "        self.radius = radius\n",
        "\n",
        "    def area(self):\n",
        "        return math.pi * self.radius ** 2\n",
        "\n",
        "class Rectangle(Shop):\n",
        "    def __init__(self, length, width):\n",
        "        self.length = length\n",
        "        self.width = width\n",
        "\n",
        "    def area(self):\n",
        "        return self.length * self.width\n",
        "\n",
        "# Example usage:\n",
        "circle_shop = Circle(5)\n",
        "rectangle_shop = Rectangle(4, 6)\n",
        "\n",
        "print(f\"Area of the circle shop: {circle_shop.area():.2f}\")\n",
        "print(f\"Area of the rectangle shop: {rectangle_shop.area():.2f}\")\n"
      ],
      "metadata": {
        "colab": {
          "base_uri": "https://localhost:8080/"
        },
        "id": "OBEuRfF07bG5",
        "outputId": "cdeb5a84-3c8d-414d-9e6a-04aeae72e4ca"
      },
      "execution_count": null,
      "outputs": [
        {
          "output_type": "stream",
          "name": "stdout",
          "text": [
            "Area of the circle shop: 78.54\n",
            "Area of the rectangle shop: 24.00\n"
          ]
        }
      ]
    },
    {
      "cell_type": "markdown",
      "source": [
        "Explanation:\n",
        "\n",
        "Abstract Class Shop:\n",
        "\n",
        "\n",
        "The Shop class is an abstract base class (ABC) with an abstract method area.\n",
        "\n",
        "The @abstractmethod decorator ensures that any subclass must implement the area method.\n",
        "\n",
        "Derived Class Circle:\n",
        "\n",
        "\n",
        "The Circle class inherits from Shop and implements the area method.\n",
        "\n",
        "The area method calculates the area of a circle using the formula $$\\pi r^2$$.\n",
        "\n",
        "Derived Class Rectangle:\n",
        "\n",
        "\n",
        "The Rectangle class also inherits from Shop and implements the area method.\n",
        "\n",
        "The area method calculates the area of a rectangle using the formula $$\\text{length} \\times \\text{width}$$.\n",
        "\n",
        "\n",
        "Example Usage:\n",
        "\n",
        "\n",
        "Instances of Circle and Rectangle are created with specific dimensions.\n",
        "\n",
        "The area method is called on these instances to print the area of each shop.\n",
        "\n",
        "This program is flexible and can be easily extended to include more shapes by deriving new classes from Shop and implementing the area method accordingly."
      ],
      "metadata": {
        "id": "HqBs45Ia8hi8"
      }
    },
    {
      "cell_type": "markdown",
      "source": [
        "3. Implement a multi-level inheritance scenario where a class vehicle has an attribute type. Derive a class Car and further derive a class ElectricCar that adds a battery attribute."
      ],
      "metadata": {
        "id": "mZn73K0E88AS"
      }
    },
    {
      "cell_type": "code",
      "source": [
        "# Base class\n",
        "class Vehicle:\n",
        "    def __init__(self, vehicle_type):\n",
        "        self.vehicle_type = vehicle_type\n",
        "\n",
        "    def display_info(self):\n",
        "        print(f\"Vehicle Type: {self.vehicle_type}\")\n",
        "\n",
        "# Derived class\n",
        "class Car(Vehicle):\n",
        "    def __init__(self, vehicle_type, brand):\n",
        "        super().__init__(vehicle_type)\n",
        "        self.brand = brand\n",
        "\n",
        "    def display_info(self):\n",
        "        super().display_info()\n",
        "        print(f\"Brand: {self.brand}\")\n",
        "\n",
        "# Further derived class\n",
        "class ElectricCar(Car):\n",
        "    def __init__(self, vehicle_type, brand, battery_capacity):\n",
        "        super().__init__(vehicle_type, brand)\n",
        "        self.battery_capacity = battery_capacity\n",
        "\n",
        "    def display_info(self):\n",
        "        super().display_info()\n",
        "        print(f\"Battery Capacity: {self.battery_capacity} kWh\")\n",
        "\n",
        "# Example usage\n",
        "my_electric_car = ElectricCar(\"Electric\", \"Tesla\", 75)\n",
        "my_electric_car.display_info()\n"
      ],
      "metadata": {
        "colab": {
          "base_uri": "https://localhost:8080/"
        },
        "id": "6ek8CFdT8fnk",
        "outputId": "0947e406-a1e4-4711-f2b1-0bdfef3a298e"
      },
      "execution_count": null,
      "outputs": [
        {
          "output_type": "stream",
          "name": "stdout",
          "text": [
            "Vehicle Type: Electric\n",
            "Brand: Tesla\n",
            "Battery Capacity: 75 kWh\n"
          ]
        }
      ]
    },
    {
      "cell_type": "markdown",
      "source": [
        "In this example:\n",
        "\n",
        "\n",
        "The Vehicle class has an attribute vehicle_type.\n",
        "\n",
        "The Car class inherits from Vehicle and adds an attribute, brand.\n",
        "\n",
        "The ElectricCar class inherits from Car and adds an attribute battery_capacity.\n",
        "\n",
        "When you create an instance of ElectricCar and call display_info, it will display information from all levels of the inheritance hierarchy.\n",
        "\n",
        "\n",
        "\n"
      ],
      "metadata": {
        "id": "-uo1let_93m0"
      }
    },
    {
      "cell_type": "markdown",
      "source": [
        "4. Demonstrate polymorphism by creating a base class bird with a method fly(). Create two derived classes, Sparrow and Penguin, that override the fly() method."
      ],
      "metadata": {
        "id": "310r8erD-Cs5"
      }
    },
    {
      "cell_type": "code",
      "source": [
        "# Base class\n",
        "class Bird:\n",
        "    def fly(self):\n",
        "        raise NotImplementedError(\"Subclasses should implement this method\")\n",
        "\n",
        "# Derived class Sparrow\n",
        "class Sparrow(Bird):\n",
        "    def fly(self):\n",
        "        return \"Sparrow is flying high in the sky!\"\n",
        "\n",
        "# Derived class Penguin\n",
        "class Penguin(Bird):\n",
        "    def fly(self):\n",
        "        return \"Penguins can't fly, but they swim excellently!\"\n",
        "\n",
        "# Function to demonstrate polymorphism\n",
        "def demonstrate_flying(bird):\n",
        "    print(bird.fly())\n",
        "\n",
        "# Create instances of Sparrow and Penguin\n",
        "sparrow = Sparrow()\n",
        "penguin = Penguin()\n",
        "\n",
        "# Demonstrate polymorphism\n",
        "demonstrate_flying(sparrow)  # Output: Sparrow is flying high in the sky!\n",
        "demonstrate_flying(penguin)   # Output: Penguins can't fly, but they swim excellently!\n"
      ],
      "metadata": {
        "colab": {
          "base_uri": "https://localhost:8080/"
        },
        "id": "UqyQ8pX-9xaK",
        "outputId": "29b7d593-b2b0-44af-c84b-32de048378ef"
      },
      "execution_count": null,
      "outputs": [
        {
          "output_type": "stream",
          "name": "stdout",
          "text": [
            "Sparrow is flying high in the sky!\n",
            "Penguins can't fly, but they swim excellently!\n"
          ]
        }
      ]
    },
    {
      "cell_type": "markdown",
      "source": [
        "In this example:\n",
        "\n",
        "\n",
        "The Bird class defines a method fly that is intended to be overridden by its subclasses.\n",
        "\n",
        "The Sparrow class overrides the fly method to indicate that sparrows can fly.\n",
        "\n",
        "The Penguin class overrides the fly method to indicate that penguins cannot fly but are excellent swimmers.\n",
        "\n",
        "The demonstrate_flying function takes a Bird object and calls its fly method, demonstrating polymorphism by allowing different behaviors depending on the actual object type passed to it.\n"
      ],
      "metadata": {
        "id": "BvIjPQolEA01"
      }
    },
    {
      "cell_type": "markdown",
      "source": [
        "5. Write a program to demonstrate encapsulation by creating a class BankAccount with private attributes balance and methods to deposit, withdraw, and check balance."
      ],
      "metadata": {
        "id": "QhMOxyW0EHUB"
      }
    },
    {
      "cell_type": "code",
      "source": [
        "class BankAccount:\n",
        "    def __init__(self, initial_balance=0):\n",
        "        self.__balance = initial_balance\n",
        "\n",
        "    def deposit(self, amount):\n",
        "        if amount > 0:\n",
        "            self.__balance += amount\n",
        "            print(f\"Deposited: {amount}\")\n",
        "        else:\n",
        "            print(\"Deposit amount must be positive.\")\n",
        "\n",
        "    def withdraw(self, amount):\n",
        "        if 0 < amount <= self.__balance:\n",
        "            self.__balance -= amount\n",
        "            print(f\"Withdrew: {amount}\")\n",
        "        else:\n",
        "            print(\"Insufficient balance or invalid amount.\")\n",
        "\n",
        "    def check_balance(self):\n",
        "        print(f\"Current balance: {self.__balance}\")\n",
        "\n",
        "# Example usage:\n",
        "account = BankAccount(100)\n",
        "account.deposit(50)\n",
        "account.withdraw(30)\n",
        "account.check_balance()\n"
      ],
      "metadata": {
        "colab": {
          "base_uri": "https://localhost:8080/"
        },
        "id": "ITRg5YOVD7JJ",
        "outputId": "e0530e0f-abe1-4c7e-df14-db29d9e5ba8a"
      },
      "execution_count": null,
      "outputs": [
        {
          "output_type": "stream",
          "name": "stdout",
          "text": [
            "Deposited: 50\n",
            "Withdrew: 30\n",
            "Current balance: 120\n"
          ]
        }
      ]
    },
    {
      "cell_type": "markdown",
      "source": [
        "Explanation:\n",
        "\n",
        "Encapsulation: The __balance attribute is private, meaning it cannot be accessed directly from outside the class.\n",
        "\n",
        "Methods:\n",
        "\n",
        "deposit(self, amount): Adds the specified amount to the balance if the amount is positive.\n",
        "\n",
        "withdraw(self, amount): Deducts the specified amount from the balance if the amount is positive and less than or equal to the current balance.\n",
        "\n",
        "\n",
        "check_balance(self): Prints the current balance.\n",
        "\n",
        "This program ensures that the balance can only be modified through the defined methods, maintaining the integrity of the data."
      ],
      "metadata": {
        "id": "TsaArFCAE-EX"
      }
    },
    {
      "cell_type": "markdown",
      "source": [
        "6. Demonstrate runtime polymorphism using the method play() in a base class instrument. Derive classes Guitar and piano that implement their own version of play().\n",
        " - In Java, runtime polymorphism is achieved through method overriding, allowing a method to exhibit different behaviors based on the object's actual class at runtime. Below is an example demonstrating runtime polymorphism with the base class Instrument, and the derived classes Guitar and Piano.\n",
        "\n",
        "Base Class: Instrument"
      ],
      "metadata": {
        "id": "IQ8NdF5_FUFj"
      }
    },
    {
      "cell_type": "code",
      "source": [
        "class Instrument {\n",
        "    void play() {\n",
        "        System.out.println(\"Playing instrument...\");\n",
        "    }\n",
        "}"
      ],
      "metadata": {
        "colab": {
          "base_uri": "https://localhost:8080/",
          "height": 106
        },
        "id": "S-w71gBYE4--",
        "outputId": "55220c29-088a-4277-ab63-dcd898106983"
      },
      "execution_count": null,
      "outputs": [
        {
          "output_type": "error",
          "ename": "SyntaxError",
          "evalue": "invalid syntax (<ipython-input-6-72ddfea7179e>, line 1)",
          "traceback": [
            "\u001b[0;36m  File \u001b[0;32m\"<ipython-input-6-72ddfea7179e>\"\u001b[0;36m, line \u001b[0;32m1\u001b[0m\n\u001b[0;31m    class Instrument {\u001b[0m\n\u001b[0m                     ^\u001b[0m\n\u001b[0;31mSyntaxError\u001b[0m\u001b[0;31m:\u001b[0m invalid syntax\n"
          ]
        }
      ]
    },
    {
      "cell_type": "markdown",
      "source": [
        "Derived Class: Guitar"
      ],
      "metadata": {
        "id": "Dic0JLZaLKoH"
      }
    },
    {
      "cell_type": "code",
      "source": [
        "class Guitar extends Instrument {\n",
        "    @Override\n",
        "    void play() {\n",
        "        System.out.println(\"Strumming the guitar.\");\n",
        "    }\n",
        "}"
      ],
      "metadata": {
        "colab": {
          "base_uri": "https://localhost:8080/",
          "height": 106
        },
        "id": "jcrIn5TCLF-_",
        "outputId": "d07d1afe-d1b6-4510-b98d-7c760aa7df8e"
      },
      "execution_count": null,
      "outputs": [
        {
          "output_type": "error",
          "ename": "SyntaxError",
          "evalue": "invalid syntax (<ipython-input-7-47fdd9716de6>, line 1)",
          "traceback": [
            "\u001b[0;36m  File \u001b[0;32m\"<ipython-input-7-47fdd9716de6>\"\u001b[0;36m, line \u001b[0;32m1\u001b[0m\n\u001b[0;31m    class Guitar extends Instrument {\u001b[0m\n\u001b[0m                 ^\u001b[0m\n\u001b[0;31mSyntaxError\u001b[0m\u001b[0;31m:\u001b[0m invalid syntax\n"
          ]
        }
      ]
    },
    {
      "cell_type": "markdown",
      "source": [
        "Derived Class: Piano"
      ],
      "metadata": {
        "id": "tMvToBMvLa4m"
      }
    },
    {
      "cell_type": "code",
      "source": [
        "class Piano extends Instrument {\n",
        "    @Override\n",
        "    void play() {\n",
        "        System.out.println(\"Tinkling the piano keys.\");\n",
        "    }\n",
        "}"
      ],
      "metadata": {
        "colab": {
          "base_uri": "https://localhost:8080/",
          "height": 106
        },
        "id": "5ztL_7ORLQss",
        "outputId": "667ed6b4-64e3-4efe-de04-2c41f8327958"
      },
      "execution_count": null,
      "outputs": [
        {
          "output_type": "error",
          "ename": "SyntaxError",
          "evalue": "invalid syntax (<ipython-input-8-a9057a9b7d9b>, line 1)",
          "traceback": [
            "\u001b[0;36m  File \u001b[0;32m\"<ipython-input-8-a9057a9b7d9b>\"\u001b[0;36m, line \u001b[0;32m1\u001b[0m\n\u001b[0;31m    class Piano extends Instrument {\u001b[0m\n\u001b[0m                ^\u001b[0m\n\u001b[0;31mSyntaxError\u001b[0m\u001b[0;31m:\u001b[0m invalid syntax\n"
          ]
        }
      ]
    },
    {
      "cell_type": "markdown",
      "source": [
        "Main Class to Demonstrate Runtime Polymorphism"
      ],
      "metadata": {
        "id": "vgclwKhbLl6-"
      }
    },
    {
      "cell_type": "code",
      "source": [
        "public class MusicShop {\n",
        "    public static void main(String[] args) {\n",
        "        // Create an array of Instrument references\n",
        "        Instrument[] instruments = new Instrument[2];\n",
        "\n",
        "        // Assign derived class objects to the base class references\n",
        "        instruments[0] = new Guitar();\n",
        "        instruments[1] = new Piano();\n",
        "\n",
        "        // Loop through the array and call play() method\n",
        "        for (Instrument instrument : instruments) {\n",
        "            instrument.play();  // Calls the overridden method based on the object's actual class\n",
        "        }\n",
        "    }\n",
        "}"
      ],
      "metadata": {
        "colab": {
          "base_uri": "https://localhost:8080/",
          "height": 106
        },
        "id": "ilzH8I-0LfgG",
        "outputId": "5e7fa4b7-b82c-4fb0-af50-6837919b79bd"
      },
      "execution_count": null,
      "outputs": [
        {
          "output_type": "error",
          "ename": "SyntaxError",
          "evalue": "unterminated string literal (detected at line 12) (<ipython-input-9-aef0889d1f72>, line 12)",
          "traceback": [
            "\u001b[0;36m  File \u001b[0;32m\"<ipython-input-9-aef0889d1f72>\"\u001b[0;36m, line \u001b[0;32m12\u001b[0m\n\u001b[0;31m    instrument.play();  // Calls the overridden method based on the object's actual class\u001b[0m\n\u001b[0m                                                                          ^\u001b[0m\n\u001b[0;31mSyntaxError\u001b[0m\u001b[0;31m:\u001b[0m unterminated string literal (detected at line 12)\n"
          ]
        }
      ]
    },
    {
      "cell_type": "markdown",
      "source": [
        "Explanation\n",
        "\n",
        "Base Class:\n",
        "The Instrument class has a method play() that displays a generic message. This act as the foundation for the derived classes.\n",
        "\n",
        "Derived Classes:\n",
        "Both Guitar and Piano classes extend Instrument and override the play() method to provide their specific implementations, demonstrating how different instruments play.\n",
        "\n",
        "Main Method:\n",
        "In the MusicShop class, an array of Instrument references is created. The actual objects of Guitar and Piano are assigned to these references. When we call play(), the Java Virtual Machine (JVM) determines which play() method to invoke based on the actual object type at runtime.\n",
        "\n",
        "Output\n",
        "\n",
        "When the main method is run, the output will be:\n"
      ],
      "metadata": {
        "id": "dWH2I7yKL6ZG"
      }
    },
    {
      "cell_type": "code",
      "source": [
        "Strumming the guitar.\n",
        "Tinkling the piano keys"
      ],
      "metadata": {
        "id": "QlkLVjdOMMXQ"
      },
      "execution_count": null,
      "outputs": []
    },
    {
      "cell_type": "markdown",
      "source": [
        "This example clearly demonstrates runtime polymorphism, as the same method call (play()) leads to different behaviors depending on the object's actual class (Guitar or Piano). This flexibility is a key feature of object-oriented programming in Java, allowing for more modular and maintainable code."
      ],
      "metadata": {
        "id": "uk8ZB4M8MIID"
      }
    },
    {
      "cell_type": "markdown",
      "source": [
        "7. Create a class mathOperations with a class method add_numbers() to add two numbers and a static method subtract_numbers() to subtract two numbers."
      ],
      "metadata": {
        "id": "_9sXHzx2MU46"
      }
    },
    {
      "cell_type": "code",
      "source": [
        "class MathOperations:\n",
        "    @classmethod\n",
        "    def add_numbers(cls, a, b):\n",
        "        return a + b\n",
        "\n",
        "    @staticmethod\n",
        "    def subtract_numbers(a, b):\n",
        "        return a - b\n",
        "\n",
        "# Example usage:\n",
        "# Adding numbers\n",
        "result_add = MathOperations.add_numbers(10, 5)\n",
        "print(f\"Addition Result: {result_add}\")\n",
        "\n",
        "# Subtracting numbers\n",
        "result_subtract = MathOperations.subtract_numbers(10, 5)\n",
        "print(f\"Subtraction Result: {result_subtract}\")\n"
      ],
      "metadata": {
        "colab": {
          "base_uri": "https://localhost:8080/"
        },
        "id": "bszUY5hrNQmw",
        "outputId": "4cfd7077-6370-4e94-c479-f91a56b1c617"
      },
      "execution_count": null,
      "outputs": [
        {
          "output_type": "stream",
          "name": "stdout",
          "text": [
            "Addition Result: 15\n",
            "Subtraction Result: 5\n"
          ]
        }
      ]
    },
    {
      "cell_type": "markdown",
      "source": [
        "This class is designed to be straightforward and easy to use. The add_numbers method is a class method, meaning it takes the class itself as the first argument, while subtract_numbers is a static method and does not take any implicit first argument. This makes the class versatile and adaptable for various mathematical operations."
      ],
      "metadata": {
        "id": "45DygRenNWb4"
      }
    },
    {
      "cell_type": "markdown",
      "source": [
        "8. Implement a class person with a class method to count the total number of persons created."
      ],
      "metadata": {
        "id": "OlUlwfYZNXtp"
      }
    },
    {
      "cell_type": "code",
      "source": [
        "class Person:\n",
        "    # Class variable to keep track of the number of persons created\n",
        "    _count = 0\n",
        "\n",
        "    def __init__(self, name):\n",
        "        self.name = name\n",
        "        # Increment the count each time a new instance is created\n",
        "        Person._count += 1\n",
        "\n",
        "    @classmethod\n",
        "    def get_count(cls):\n",
        "        # Class method to return the current count of persons\n",
        "        return cls._count\n",
        "\n",
        "# Example usage:\n",
        "p1 = Person(\"Alice\")\n",
        "p2 = Person(\"Bob\")\n",
        "p3 = Person(\"Charlie\")\n",
        "\n",
        "print(Person.get_count())  # Output: 3\n"
      ],
      "metadata": {
        "colab": {
          "base_uri": "https://localhost:8080/"
        },
        "id": "Z3XnzlI4NxVT",
        "outputId": "75059fab-e52f-465f-e5b4-803da8ac7c7c"
      },
      "execution_count": null,
      "outputs": [
        {
          "output_type": "stream",
          "name": "stdout",
          "text": [
            "3\n"
          ]
        }
      ]
    },
    {
      "cell_type": "markdown",
      "source": [
        "In this implementation:\n",
        "\n",
        "\n",
        "The _count class variable keeps track of the number of Person instances.\n",
        "\n",
        "The __init__ method increments _count each time a new Person instance is created.\n",
        "\n",
        "The get_count class method returns the current count of Person instances."
      ],
      "metadata": {
        "id": "swyzuQA4N6UA"
      }
    },
    {
      "cell_type": "markdown",
      "source": [
        "9. Write a class function with attributes numerator and denominator. Override the str method to display the fraction as \"numerator/ denominator\"."
      ],
      "metadata": {
        "id": "Ek-KxrdiN-kT"
      }
    },
    {
      "cell_type": "code",
      "source": [
        "class Fraction:\n",
        "    def __init__(self, numerator, denominator):\n",
        "        self.numerator = numerator\n",
        "        self.denominator = denominator\n",
        "\n",
        "    def __str__(self):\n",
        "        return f\"{self.numerator}/{self.denominator}\"\n",
        "\n",
        "# Example usage:\n",
        "fraction = Fraction(3, 4)\n",
        "print(fraction)  # Output: 3/4\n"
      ],
      "metadata": {
        "colab": {
          "base_uri": "https://localhost:8080/"
        },
        "id": "Xu0JzLZ3NSAj",
        "outputId": "9f3b716f-041a-4c9c-bc80-de4ca6cf58bb"
      },
      "execution_count": null,
      "outputs": [
        {
          "output_type": "stream",
          "name": "stdout",
          "text": [
            "3/4\n"
          ]
        }
      ]
    },
    {
      "cell_type": "markdown",
      "source": [
        "10. Demonstrate operator overloading by creating a class Vector and overriding the add method to add two vectors."
      ],
      "metadata": {
        "id": "GQMJ9E35PK-1"
      }
    },
    {
      "cell_type": "code",
      "source": [
        "class Vector:\n",
        "    def __init__(self, x, y, z):\n",
        "        self.x = x\n",
        "        self.y = y\n",
        "        self.z = z\n",
        "\n",
        "    def __add__(self, other):\n",
        "        if isinstance(other, Vector):\n",
        "            return Vector(self.x + other.x, self.y + other.y, self.z + other.z)\n",
        "        return NotImplemented\n",
        "\n",
        "    def __repr__(self):\n",
        "        return f\"Vector({self.x}, {self.y}, {self.z})\"\n",
        "\n",
        "# Example usage:\n",
        "vector1 = Vector(1, 2, 3)\n",
        "vector2 = Vector(4, 5, 6)\n",
        "vector3 = vector1 + vector2\n",
        "\n",
        "print(vector3)  # Output: Vector(5, 7, 9)\n"
      ],
      "metadata": {
        "colab": {
          "base_uri": "https://localhost:8080/"
        },
        "id": "CJeElFg3PEYZ",
        "outputId": "a73e5b9c-2ab0-4ac3-9bb6-352befff6cba"
      },
      "execution_count": null,
      "outputs": [
        {
          "output_type": "stream",
          "name": "stdout",
          "text": [
            "Vector(5, 7, 9)\n"
          ]
        }
      ]
    },
    {
      "cell_type": "markdown",
      "source": [
        "Explanation:\n",
        "\n",
        "Initialization: The __init__ method initializes the vector with three components: x, y, and z.\n",
        "\n",
        "Addition:\n",
        "\n",
        "The __add__ method is overridden to handle the addition of two Vector objects.\n",
        " It checks if the other object is an instance of Vector and then returns a new Vector with the sum of the corresponding components.\n",
        "\n",
        "Representation:\n",
        "\n",
        "The __repr__ method provides a string representation of the Vector object for easy debugging and display.\n",
        "\n",
        "This code allows you to add two Vector objects using the + operator, making the code more intuitive and readable.\n",
        "\n"
      ],
      "metadata": {
        "id": "zCgGPHcfPwrC"
      }
    },
    {
      "cell_type": "markdown",
      "source": [
        "11. Create a class Person with attributes name and age. Add a method greet() that prints \"Hello, my name is {name} and I am {age} years old,\""
      ],
      "metadata": {
        "id": "WF8uGD9hP_bb"
      }
    },
    {
      "cell_type": "code",
      "source": [
        "class Person:\n",
        "    def __init__(self, name, age):\n",
        "        self.name = name\n",
        "        self.age = age\n",
        "\n",
        "    def greet(self):\n",
        "        print(f\"Hello, my name is {self.name} and I am {self.age} years old.\")\n",
        "\n",
        "# Example usage:\n",
        "person1 = Person(\"Alice\", 30)\n",
        "person1.greet()\n"
      ],
      "metadata": {
        "colab": {
          "base_uri": "https://localhost:8080/"
        },
        "id": "DBRhPXmoPql1",
        "outputId": "2cb5c223-9597-413c-dc53-eefaf26a9dc7"
      },
      "execution_count": null,
      "outputs": [
        {
          "output_type": "stream",
          "name": "stdout",
          "text": [
            "Hello, my name is Alice and I am 30 years old.\n"
          ]
        }
      ]
    },
    {
      "cell_type": "markdown",
      "source": [
        "When you create an instance of the Person class and call the greet method, it will output:"
      ],
      "metadata": {
        "id": "BQ5MlEvVQ1wM"
      }
    },
    {
      "cell_type": "code",
      "source": [
        "Hello, my name is Alice and I am 30 years old.\n"
      ],
      "metadata": {
        "id": "VqFNtTX-Q5l8"
      },
      "execution_count": null,
      "outputs": []
    },
    {
      "cell_type": "markdown",
      "source": [
        "12. Implement a class student with attributes name and grades. Create a method average_grade() to compute the average of the grades."
      ],
      "metadata": {
        "id": "aU_2-hbrRAfL"
      }
    },
    {
      "cell_type": "code",
      "source": [
        "class Student:\n",
        "    def __init__(self, name, grades):\n",
        "        self.name = name\n",
        "        self.grades = grades\n",
        "\n",
        "    def average_grade(self):\n",
        "        if not self.grades:\n",
        "            return 0\n",
        "        return sum(self.grades) / len(self.grades)\n",
        "\n",
        "# Example usage:\n",
        "student = Student(\"Alice\", [85, 90, 78, 92])\n",
        "print(f\"{student.name}'s average grade is: {student.average_grade()}\")\n"
      ],
      "metadata": {
        "colab": {
          "base_uri": "https://localhost:8080/"
        },
        "id": "3hO0qjHHRt0q",
        "outputId": "ac6f869d-c2fc-467d-f591-f0e10b352146"
      },
      "execution_count": null,
      "outputs": [
        {
          "output_type": "stream",
          "name": "stdout",
          "text": [
            "Alice's average grade is: 86.25\n"
          ]
        }
      ]
    },
    {
      "cell_type": "markdown",
      "source": [
        "In this implementation:\n",
        "\n",
        "\n",
        "The __init__ method initializes the name and grades attributes.\n",
        "\n",
        "The average_grade method calculates the average of the grades. If the grades list is empty, it returns 0 to avoid division by zero."
      ],
      "metadata": {
        "id": "INJVJjzxR1Bi"
      }
    },
    {
      "cell_type": "markdown",
      "source": [
        "13. Create a class Rectangle with methods set_dimensions() to set the Dimensions and area() to calculate the area."
      ],
      "metadata": {
        "id": "D9Xns5I2R53o"
      }
    },
    {
      "cell_type": "code",
      "source": [
        "class Rectangle:\n",
        "    def __init__(self):\n",
        "        self.length = 0\n",
        "        self.width = 0\n",
        "\n",
        "    def set_dimensions(self, length, width):\n",
        "        self.length = length\n",
        "        self.width = width\n",
        "\n",
        "    def area(self):\n",
        "        return self.length * self.width\n",
        "\n",
        "# Example usage:\n",
        "rect = Rectangle()\n",
        "rect.set_dimensions(5, 3)\n",
        "print(\"Area of the rectangle:\", rect.area())\n"
      ],
      "metadata": {
        "id": "OrpzxGSblYY-",
        "colab": {
          "base_uri": "https://localhost:8080/"
        },
        "outputId": "5228c79a-b0f0-4e59-c8de-d6df60ee3fbc"
      },
      "execution_count": null,
      "outputs": [
        {
          "output_type": "stream",
          "name": "stdout",
          "text": [
            "Area of the rectangle: 15\n"
          ]
        }
      ]
    },
    {
      "cell_type": "markdown",
      "source": [
        "In this implementation:\n",
        "\n",
        "\n",
        "The __init__ method initializes the rectangle's dimensions to zero.\n",
        "\n",
        "The set_dimensions method allows you to set the length and width of the rectangle.\n",
        "\n",
        "The area method calculates and returns the area of the rectangle based on its current dimensions."
      ],
      "metadata": {
        "id": "ld5-AaHZd4js"
      }
    },
    {
      "cell_type": "markdown",
      "source": [
        "14. Create a class Employee with a method calculate_salary() that computes the salary based on hours worked and hourly rate. Create a derived class Manager that adds a bonus to the salary."
      ],
      "metadata": {
        "id": "JcjC5DWKd93V"
      }
    },
    {
      "cell_type": "code",
      "source": [
        "// Base class\n",
        "class Employee {\n",
        "    protected double hourlyRate;\n",
        "    protected int hoursWorked;\n",
        "\n",
        "    // Constructor\n",
        "    public Employee(double hourlyRate, int hoursWorked) {\n",
        "        this.hourlyRate = hourlyRate;\n",
        "        this.hoursWorked = hoursWorked;\n",
        "    }\n",
        "\n",
        "    // Method to calculate salary\n",
        "    public double calculateSalary() {\n",
        "        return hourlyRate * hoursWorked; // Basic salary calculation\n",
        "    }\n",
        "}\n",
        "\n",
        "// Derived class\n",
        "class Manager extends Employee {\n",
        "    private double bonus;\n",
        "\n",
        "    // Constructor\n",
        "    public Manager(double hourlyRate, int hoursWorked, double bonus) {\n",
        "        super(hourlyRate, hoursWorked); // Calling the Employee constructor\n",
        "        this.bonus = bonus; // Setting the bonus\n",
        "    }\n",
        "\n",
        "    // Overriding the calculateSalary method to include bonus\n",
        "    @Override\n",
        "    public double calculateSalary() {\n",
        "        return super.calculateSalary() + bonus; // Adding bonus to the base salary\n",
        "    }\n",
        "}\n",
        "\n",
        "// Main class to test the implementation\n",
        "public class Main {\n",
        "    public static void main(String[] args) {\n",
        "        // Create an Employee object\n",
        "        Employee emp = new Employee(20.0, 40); // $20/hour for 40 hours\n",
        "        System.out.println(\"Employee Salary: $\" + emp.calculateSalary());\n",
        "\n",
        "        // Create a Manager object\n",
        "        Manager mgr = new Manager(30.0, 40, 500.0); // $30/hour + $500 bonus\n",
        "        System.out.println(\"Manager Salary: $\" + mgr.calculateSalary());\n",
        "    }\n",
        "}\n"
      ],
      "metadata": {
        "colab": {
          "base_uri": "https://localhost:8080/",
          "height": 106
        },
        "id": "UPNho4mahC2P",
        "outputId": "86719ee6-ba1f-4c6d-fa3e-ad53661525b8"
      },
      "execution_count": null,
      "outputs": [
        {
          "output_type": "error",
          "ename": "SyntaxError",
          "evalue": "invalid syntax (<ipython-input-6-af3f7143ef76>, line 1)",
          "traceback": [
            "\u001b[0;36m  File \u001b[0;32m\"<ipython-input-6-af3f7143ef76>\"\u001b[0;36m, line \u001b[0;32m1\u001b[0m\n\u001b[0;31m    // Base class\u001b[0m\n\u001b[0m    ^\u001b[0m\n\u001b[0;31mSyntaxError\u001b[0m\u001b[0;31m:\u001b[0m invalid syntax\n"
          ]
        }
      ]
    },
    {
      "cell_type": "markdown",
      "source": [
        "15. Create a class Product with the attribute name. Price and quantity. Implement a method total_price() that calculates the product's total price."
      ],
      "metadata": {
        "id": "ODfrp_kahYnm"
      }
    },
    {
      "cell_type": "code",
      "source": [
        "class Product:\n",
        "    def __init__(self, name, price, quantity):\n",
        "        self.name = name\n",
        "        self.price = price\n",
        "        self.quantity = quantity\n",
        "\n",
        "    def total_price(self):\n",
        "        return self.price * self.quantity\n",
        "\n",
        "# Example usage:\n",
        "product = Product(\"Laptop\", 75000, 2)\n",
        "print(f\"Total price for {product.name}: ₹{product.total_price()}\")\n"
      ],
      "metadata": {
        "colab": {
          "base_uri": "https://localhost:8080/"
        },
        "id": "6sbm48Q_hV2i",
        "outputId": "9d47bf63-a7b5-46b6-ac41-d39e02eca4ef"
      },
      "execution_count": null,
      "outputs": [
        {
          "output_type": "stream",
          "name": "stdout",
          "text": [
            "Total price for Laptop: ₹150000\n"
          ]
        }
      ]
    },
    {
      "cell_type": "markdown",
      "source": [
        "In this example:\n",
        "\n",
        "\n",
        "The __init__ method initializes the product with a name, price, and quantity.\n",
        "\n",
        "The total_price method calculates the total price by multiplying the price by the quantity.\n",
        "\n",
        "An example usage is provided to demonstrate how to create a Product instance and calculate its total price."
      ],
      "metadata": {
        "id": "8EaqIsPHirtP"
      }
    },
    {
      "cell_type": "markdown",
      "source": [
        "16. Create a class Animal with an abstract sound(). Create two derived classes Cow and Sheep that implement the sound() method."
      ],
      "metadata": {
        "id": "GJSp82-BkGrw"
      }
    },
    {
      "cell_type": "code",
      "source": [
        "from abc import ABC, abstractmethod\n",
        "\n",
        "class Animal(ABC):\n",
        "    @abstractmethod\n",
        "    def sound(self):\n",
        "        pass\n",
        "\n",
        "class Cow(Animal):\n",
        "    def sound(self):\n",
        "        return \"Moo\"\n",
        "\n",
        "class Sheep(Animal):\n",
        "    def sound(self):\n",
        "        return \"Baa\"\n",
        "\n",
        "# Example usage:\n",
        "cow = Cow()\n",
        "sheep = Sheep()\n",
        "\n",
        "print(f\"Cow sound: {cow.sound()}\")\n",
        "print(f\"Sheep sound: {sheep.sound()}\")\n"
      ],
      "metadata": {
        "colab": {
          "base_uri": "https://localhost:8080/"
        },
        "id": "cwLFkym8kltq",
        "outputId": "72593365-0ebc-4973-e715-7807af50a1d3"
      },
      "execution_count": null,
      "outputs": [
        {
          "output_type": "stream",
          "name": "stdout",
          "text": [
            "Cow sound: Moo\n",
            "Sheep sound: Baa\n"
          ]
        }
      ]
    },
    {
      "cell_type": "markdown",
      "source": [
        "In this code:\n",
        "\n",
        "The Animal class is an abstract base class with an abstract method sound.\n",
        "\n",
        "The Cow and Sheep classes inherit from Animal and implement the sound method, returning \"Moo\" and \"Baa\" respectively.\n",
        "\n",
        "The example usage demonstrates creating instances of Cow and Sheep and calling their sound methods."
      ],
      "metadata": {
        "id": "-zEgu0Qpkov3"
      }
    },
    {
      "cell_type": "markdown",
      "source": [
        "17. Create a class book with attributes title, author, and year_published. Add a method get_book_info() that returns a formatted string with the book's detalis."
      ],
      "metadata": {
        "id": "87tyx_9_i1q7"
      }
    },
    {
      "cell_type": "code",
      "source": [
        "class Book:\n",
        "    def __init__(self, title, author, year_published):\n",
        "        self.title = title\n",
        "        self.author = author\n",
        "        self.year_published = year_published\n",
        "\n",
        "    def get_book_info(self):\n",
        "        return f\"Title: {self.title}, Author: {self.author}, Year Published: {self.year_published}\"\n",
        "\n",
        "# Example usage:\n",
        "book = Book(\"To Kill a Mockingbird\", \"Harper Lee\", 1960)\n",
        "print(book.get_book_info())\n"
      ],
      "metadata": {
        "colab": {
          "base_uri": "https://localhost:8080/"
        },
        "id": "yEmc5agfiSfT",
        "outputId": "08fbd61a-2d6d-4ac7-91d7-ace214c8ec9d"
      },
      "execution_count": null,
      "outputs": [
        {
          "output_type": "stream",
          "name": "stdout",
          "text": [
            "Title: To Kill a Mockingbird, Author: Harper Lee, Year Published: 1960\n"
          ]
        }
      ]
    },
    {
      "cell_type": "markdown",
      "source": [
        "This class includes:\n",
        "\n",
        "An __init__ method to initialize the attributes title, author, and year_published.\n",
        "\n",
        "A get_book_info method that returns a formatted string with the book's details."
      ],
      "metadata": {
        "id": "4_I-qWstjuip"
      }
    },
    {
      "cell_type": "markdown",
      "source": [],
      "metadata": {
        "id": "EWgVedNHjynC"
      }
    },
    {
      "cell_type": "markdown",
      "source": [
        "18. Create a class House with attributes address and price. Create a derived class Mansion that adds an attribute number_of_rooms."
      ],
      "metadata": {
        "id": "zYxf1l64kyPK"
      }
    },
    {
      "cell_type": "code",
      "source": [
        "class Animal:\n",
        "    def __init__(self, name):\n",
        "        self.name = name  # Attribute common to all animals\n",
        "\n",
        "    def speak(self):\n",
        "        return f\"{self.name} makes a sound.\"  # Generic sound method\n",
        "\n",
        "# Derived class inheriting from Animal\n",
        "class Dog(Animal):\n",
        "    def speak(self):\n",
        "        return f\"{self.name} barks.\"  # Overriding the speak method\n",
        "\n",
        "# Another derived class\n",
        "class Cat(Animal):\n",
        "    def speak(self):\n",
        "        return f\"{self.name} meows.\"  # Overriding the speak method\n",
        "\n",
        "# Creating instances of Dog and Cat\n",
        "dog = Dog(\"Rocky\")\n",
        "cat = Cat(\"Tom\")\n",
        "\n",
        "# Calling the speak method on Dog and Cat instances\n",
        "print(dog.speak())  # Output: Rocky barks.\n",
        "print(cat.speak())  # Output: Tom meows."
      ],
      "metadata": {
        "colab": {
          "base_uri": "https://localhost:8080/"
        },
        "id": "R8EbZaLHjokR",
        "outputId": "b4977ce3-852f-4eb1-c11e-e5485cd74a1c"
      },
      "execution_count": null,
      "outputs": [
        {
          "output_type": "stream",
          "name": "stdout",
          "text": [
            "Rocky barks.\n",
            "Tom meows.\n"
          ]
        }
      ]
    },
    {
      "cell_type": "code",
      "source": [],
      "metadata": {
        "id": "rQK1ntchlvXC"
      },
      "execution_count": null,
      "outputs": []
    }
  ]
}